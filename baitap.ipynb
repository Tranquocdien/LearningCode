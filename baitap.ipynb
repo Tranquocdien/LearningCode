{
  "nbformat": 4,
  "nbformat_minor": 0,
  "metadata": {
    "colab": {
      "name": "baitap.ipynb",
      "provenance": [],
      "collapsed_sections": [],
      "authorship_tag": "ABX9TyPZzSgQh/FxFKV8mVrt9BF6",
      "include_colab_link": true
    },
    "kernelspec": {
      "name": "python3",
      "display_name": "Python 3"
    },
    "language_info": {
      "name": "python"
    }
  },
  "cells": [
    {
      "cell_type": "markdown",
      "metadata": {
        "id": "view-in-github",
        "colab_type": "text"
      },
      "source": [
        "<a href=\"https://colab.research.google.com/github/Tranquocdien/LearningCode/blob/master/baitap.ipynb\" target=\"_parent\"><img src=\"https://colab.research.google.com/assets/colab-badge.svg\" alt=\"Open In Colab\"/></a>"
      ]
    },
    {
      "cell_type": "code",
      "metadata": {
        "id": "O58xfBUMiLmN",
        "colab": {
          "base_uri": "https://localhost:8080/"
        },
        "outputId": "294bcb23-871c-45bd-969a-49de84daa5fa"
      },
      "source": [
        "Ftemp = input()\n",
        "Ftemp = float(Ftemp)\n",
        "def convert(Ftemp):\n",
        "  Ctemp = round((Ftemp-32)/1.8, 3)\n",
        "  Ftemp = round((Ftemp-32)/1.8+273.15, 3)\n",
        "  print(Ctemp, Ftemp)\n",
        "  \n",
        "convert(Ftemp)"
      ],
      "execution_count": 1,
      "outputs": [
        {
          "output_type": "stream",
          "name": "stdout",
          "text": [
            "152\n",
            "66.667 339.817\n"
          ]
        }
      ]
    }
  ]
}